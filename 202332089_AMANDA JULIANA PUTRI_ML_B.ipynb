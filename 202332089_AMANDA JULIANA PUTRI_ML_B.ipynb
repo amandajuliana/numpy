{
 "cells": [
  {
   "cell_type": "code",
   "execution_count": 15,
   "id": "88bf73df-3350-4f25-bcc8-d4c06f5169f7",
   "metadata": {},
   "outputs": [],
   "source": [
    "import pandas as pd\n",
    "import matplotlib.pyplot as plt\n",
    "import seaborn as sns"
   ]
  },
  {
   "cell_type": "code",
   "execution_count": 56,
   "id": "6734ba5b-a955-4812-a103-e6360d941a0e",
   "metadata": {},
   "outputs": [],
   "source": [
    " df = pd.read_csv(\"botak.csv\")  \n"
   ]
  },
  {
   "cell_type": "code",
   "execution_count": 61,
   "id": "63fcd8e6-6641-46a4-8027-68cedde79eef",
   "metadata": {},
   "outputs": [],
   "source": [
    "sns.set(style=\"whitegrid\")\n"
   ]
  },
  {
   "cell_type": "code",
   "execution_count": 63,
   "id": "66288354-0c1e-406e-ac5f-94cdad934648",
   "metadata": {},
   "outputs": [
    {
     "data": {
      "image/png": "[encoded data removed]",
      "text/plain": [
       "<Figure size 1800x500 with 3 Axes>"
      ]
     },
     "metadata": {},
     "output_type": "display_data"
    }
   ],
   "source": [
    "fig, axes = plt.subplots(1, 3, figsize=(18, 5))"
   ]
  },
  {
   "cell_type": "markdown",
   "id": "eb0ad121-dede-45fa-9d55-5793eb962615",
   "metadata": {},
   "source": [
    "#HISTOGRAM USIA\n"
   ]
  },
  {
   "cell_type": "code",
   "execution_count": 66,
   "id": "fd2e487b-0588-4e4e-bbd5-6d55cf3e2f24",
   "metadata": {},
   "outputs": [
    {
     "data": {
      "text/plain": [
       "Text(4.444444444444459, 0.5, 'Frekuensi')"
      ]
     },
     "execution_count": 66,
     "metadata": {},
     "output_type": "execute_result"
    }
   ],
   "source": [
    "sns.histplot(\n",
    "    df[\"umur\"], \n",
    "    bins=30, \n",
    "    kde=True, \n",
    "    ax=axes[0], \n",
    "    color=\"blue\"\n",
    ")\n",
    "\n",
    "axes[0].set_title(\"Distribusi Usia\")\n",
    "axes[0].set_xlabel(\"Usia\")\n",
    "axes[0].set_ylabel(\"Frekuensi\")\n"
   ]
  },
  {
   "cell_type": "markdown",
   "id": "bb892887-715a-4966-afac-3b484bf54289",
   "metadata": {},
   "source": [
    "#GAJI BERDASARKAN PENDIDIKAN\n"
   ]
  },
  {
   "cell_type": "code",
   "execution_count": 99,
   "id": "bce1acbe-e462-44c1-b530-f1bc5f5df91c",
   "metadata": {},
   "outputs": [
    {
     "data": {
      "text/plain": [
       "[Text(0, 0, 'S1'),\n",
       " Text(1, 0, 'SMA'),\n",
       " Text(2, 0, 'S2'),\n",
       " Text(3, 0, 'SMP'),\n",
       " Text(4, 0, 'SD'),\n",
       " Text(5, 0, 'S3')]"
      ]
     },
     "execution_count": 99,
     "metadata": {},
     "output_type": "execute_result"
    }
   ],
   "source": [
    "sns.boxplot(\n",
    "    x=\"pendidikan\", \n",
    "    y=\"gaji\", \n",
    "    data=df, \n",
    "    ax=axes[1]\n",
    ")\n",
    "\n",
    "# Menyesuaikan tampilan sumbu X\n",
    "axes[1].set_title(\"Distribusi Gaji Berdasarkan Pendidikan\")\n",
    "axes[1].set_xlabel(\"Pendidikan\")\n",
    "axes[1].set_ylabel(\"Gaji\")\n",
    "\n",
    "axes[1].set_xticks(range(len(axes[1].get_xticklabels())))  \n",
    "axes[1].set_xticklabels(axes[1].get_xticklabels(), rotation=45)"
   ]
  },
  {
   "cell_type": "code",
   "execution_count": 84,
   "id": "0a0e74db-bb34-4baa-87fb-c099d9a0c836",
   "metadata": {},
   "outputs": [
    {
     "name": "stdout",
     "output_type": "stream",
     "text": [
      "Index(['umur', 'jenis_kelamin', 'pekerjaan', 'provinsi', 'gaji', 'is_menikah',\n",
      "       'is_keturunan', 'berat', 'tinggi', 'sampo', 'is_merokok', 'pendidikan',\n",
      "       'botak_prob'],\n",
      "      dtype='object')\n"
     ]
    }
   ],
   "source": [
    "print(df.columns)"
   ]
  },
  {
   "cell_type": "markdown",
   "id": "55c7286c-b54e-4b95-bdbd-136478be3e5c",
   "metadata": {},
   "source": [
    "# Tinggi vs Berat"
   ]
  },
  {
   "cell_type": "code",
   "execution_count": 91,
   "id": "c286b697-1f41-4705-9950-7ef3d52670d1",
   "metadata": {},
   "outputs": [
    {
     "data": {
      "text/plain": [
       "Text(989.1503267973858, 0.5, 'Berat (kg)')"
      ]
     },
     "execution_count": 91,
     "metadata": {},
     "output_type": "execute_result"
    }
   ],
   "source": [
    "sns.scatterplot(\n",
    "    x=\"tinggi\", \n",
    "    y=\"berat\", \n",
    "    data=df, \n",
    "    alpha=0.5, \n",
    "    ax=axes[2]\n",
    ")\n",
    "\n",
    "axes[2].set_title(\"Hubungan Tinggi dan Berat Badan\")\n",
    "axes[2].set_xlabel(\"Tinggi (cm)\")\n",
    "axes[2].set_ylabel(\"Berat (kg)\")"
   ]
  },
  {
   "cell_type": "markdown",
   "id": "acc2a704-c122-4afb-b746-bdf99fbdcdcf",
   "metadata": {},
   "source": [
    "# Tampilkan plot\n"
   ]
  },
  {
   "cell_type": "code",
   "execution_count": 106,
   "id": "da39f91d-fb5e-4529-8f21-73b4bfe76d6d",
   "metadata": {},
   "outputs": [
    {
     "data": {
      "text/plain": [
       "<Figure size 640x480 with 0 Axes>"
      ]
     },
     "metadata": {},
     "output_type": "display_data"
    }
   ],
   "source": [
    "plt.tight_layout()\n",
    "plt.show()"
   ]
  },
  {
   "cell_type": "code",
   "execution_count": null,
   "id": "a683ab19-99d7-4df7-b922-847a253b64a6",
   "metadata": {},
   "outputs": [],
   "source": []
  }
 ],
 "metadata": {
  "kernelspec": {
   "display_name": "Python [conda env:base] *",
   "language": "python",
   "name": "conda-base-py"
  },
  "language_info": {
   "codemirror_mode": {
    "name": "ipython",
    "version": 3
   },
   "file_extension": ".py",
   "mimetype": "text/x-python",
   "name": "python",
   "nbconvert_exporter": "python",
   "pygments_lexer": "ipython3",
   "version": "3.12.7"
  }
 },
 "nbformat": 4,
 "nbformat_minor": 5
}
